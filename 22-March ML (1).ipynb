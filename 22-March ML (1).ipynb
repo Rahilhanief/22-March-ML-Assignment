{
 "cells": [
  {
   "cell_type": "code",
   "execution_count": 54,
   "id": "6df46c35-2983-4ba9-b690-3d76b835bb43",
   "metadata": {},
   "outputs": [],
   "source": [
    "## Q No. 1:\n",
    "\n",
    "import pandas as pd\n",
    "df= pd.DataFrame({\"study_time\":[2,3,4,5,6],\n",
    "                  \"exam_score\": [50,60,67,69,72]\n",
    "                  \n",
    "                 })"
   ]
  },
  {
   "cell_type": "code",
   "execution_count": 55,
   "id": "9035c641-96bb-4ef0-8acf-ca21f70be075",
   "metadata": {},
   "outputs": [
    {
     "data": {
      "text/html": [
       "<div>\n",
       "<style scoped>\n",
       "    .dataframe tbody tr th:only-of-type {\n",
       "        vertical-align: middle;\n",
       "    }\n",
       "\n",
       "    .dataframe tbody tr th {\n",
       "        vertical-align: top;\n",
       "    }\n",
       "\n",
       "    .dataframe thead th {\n",
       "        text-align: right;\n",
       "    }\n",
       "</style>\n",
       "<table border=\"1\" class=\"dataframe\">\n",
       "  <thead>\n",
       "    <tr style=\"text-align: right;\">\n",
       "      <th></th>\n",
       "      <th>study_time</th>\n",
       "      <th>exam_score</th>\n",
       "    </tr>\n",
       "  </thead>\n",
       "  <tbody>\n",
       "    <tr>\n",
       "      <th>study_time</th>\n",
       "      <td>1.000000</td>\n",
       "      <td>0.953139</td>\n",
       "    </tr>\n",
       "    <tr>\n",
       "      <th>exam_score</th>\n",
       "      <td>0.953139</td>\n",
       "      <td>1.000000</td>\n",
       "    </tr>\n",
       "  </tbody>\n",
       "</table>\n",
       "</div>"
      ],
      "text/plain": [
       "            study_time  exam_score\n",
       "study_time    1.000000    0.953139\n",
       "exam_score    0.953139    1.000000"
      ]
     },
     "execution_count": 55,
     "metadata": {},
     "output_type": "execute_result"
    }
   ],
   "source": [
    "df.corr(method=\"pearson\")"
   ]
  },
  {
   "cell_type": "code",
   "execution_count": 56,
   "id": "57a006e7-a7fd-41de-afeb-1f24eee8a89a",
   "metadata": {},
   "outputs": [],
   "source": [
    "## Q No. 2:\n",
    "\n",
    "import pandas as pd\n",
    "df= pd.DataFrame({\"sleep_amount\":[4,3,5,6,7],\n",
    "                  \"exam_score\": [5,5,6,7,8]\n",
    "                  \n",
    "                 })"
   ]
  },
  {
   "cell_type": "code",
   "execution_count": 57,
   "id": "9a53da67-7675-43bc-a467-1547fc798077",
   "metadata": {},
   "outputs": [
    {
     "data": {
      "text/html": [
       "<div>\n",
       "<style scoped>\n",
       "    .dataframe tbody tr th:only-of-type {\n",
       "        vertical-align: middle;\n",
       "    }\n",
       "\n",
       "    .dataframe tbody tr th {\n",
       "        vertical-align: top;\n",
       "    }\n",
       "\n",
       "    .dataframe thead th {\n",
       "        text-align: right;\n",
       "    }\n",
       "</style>\n",
       "<table border=\"1\" class=\"dataframe\">\n",
       "  <thead>\n",
       "    <tr style=\"text-align: right;\">\n",
       "      <th></th>\n",
       "      <th>sleep_amount</th>\n",
       "      <th>exam_score</th>\n",
       "    </tr>\n",
       "  </thead>\n",
       "  <tbody>\n",
       "    <tr>\n",
       "      <th>sleep_amount</th>\n",
       "      <td>1.000000</td>\n",
       "      <td>0.974679</td>\n",
       "    </tr>\n",
       "    <tr>\n",
       "      <th>exam_score</th>\n",
       "      <td>0.974679</td>\n",
       "      <td>1.000000</td>\n",
       "    </tr>\n",
       "  </tbody>\n",
       "</table>\n",
       "</div>"
      ],
      "text/plain": [
       "              sleep_amount  exam_score\n",
       "sleep_amount      1.000000    0.974679\n",
       "exam_score        0.974679    1.000000"
      ]
     },
     "execution_count": 57,
     "metadata": {},
     "output_type": "execute_result"
    }
   ],
   "source": [
    "df.corr(method=\"spearman\")"
   ]
  },
  {
   "cell_type": "code",
   "execution_count": 58,
   "id": "830c35fc-6728-4957-8c50-4c4173040c0a",
   "metadata": {},
   "outputs": [],
   "source": [
    "## Q NO. 3 :\n",
    "\n",
    "import pandas as pd\n",
    "df= pd.DataFrame({\"number_of_hours_exercise\":[10,11,14,15,16,12,13,12,15,18,10,11,14,15,16,12,13,12,15,18,10,11,14,15,16,12,13,12,15,18,\n",
    "                                             10,11,14,15,16,12,13,12,15,18,10,11,14,15,16,12,13,12,15,18],\n",
    "                  \"BMI\": [50,60,67,69,72,80,76,66,59,64,50,60,67,69,72,80,76,66,59,64,50,60,67,69,72,80,76,66,59,64,\n",
    "                          50,60,67,69,72,80,76,66,59,64,50,60,67,69,72,80,76,66,59,64]\n",
    "                  \n",
    "                 })\n"
   ]
  },
  {
   "cell_type": "code",
   "execution_count": 59,
   "id": "0e0f9722-4c4d-452b-b394-ec305353c3bb",
   "metadata": {},
   "outputs": [
    {
     "data": {
      "text/html": [
       "<div>\n",
       "<style scoped>\n",
       "    .dataframe tbody tr th:only-of-type {\n",
       "        vertical-align: middle;\n",
       "    }\n",
       "\n",
       "    .dataframe tbody tr th {\n",
       "        vertical-align: top;\n",
       "    }\n",
       "\n",
       "    .dataframe thead th {\n",
       "        text-align: right;\n",
       "    }\n",
       "</style>\n",
       "<table border=\"1\" class=\"dataframe\">\n",
       "  <thead>\n",
       "    <tr style=\"text-align: right;\">\n",
       "      <th></th>\n",
       "      <th>number_of_hours_exercise</th>\n",
       "      <th>BMI</th>\n",
       "    </tr>\n",
       "  </thead>\n",
       "  <tbody>\n",
       "    <tr>\n",
       "      <th>number_of_hours_exercise</th>\n",
       "      <td>1.000000</td>\n",
       "      <td>0.233962</td>\n",
       "    </tr>\n",
       "    <tr>\n",
       "      <th>BMI</th>\n",
       "      <td>0.233962</td>\n",
       "      <td>1.000000</td>\n",
       "    </tr>\n",
       "  </tbody>\n",
       "</table>\n",
       "</div>"
      ],
      "text/plain": [
       "                          number_of_hours_exercise       BMI\n",
       "number_of_hours_exercise                  1.000000  0.233962\n",
       "BMI                                       0.233962  1.000000"
      ]
     },
     "execution_count": 59,
     "metadata": {},
     "output_type": "execute_result"
    }
   ],
   "source": [
    "df1=df.corr(method=\"pearson\")\n",
    "df1"
   ]
  },
  {
   "cell_type": "code",
   "execution_count": 60,
   "id": "debd06c7-748b-4cac-833b-2ed8505989de",
   "metadata": {},
   "outputs": [
    {
     "data": {
      "text/html": [
       "<div>\n",
       "<style scoped>\n",
       "    .dataframe tbody tr th:only-of-type {\n",
       "        vertical-align: middle;\n",
       "    }\n",
       "\n",
       "    .dataframe tbody tr th {\n",
       "        vertical-align: top;\n",
       "    }\n",
       "\n",
       "    .dataframe thead th {\n",
       "        text-align: right;\n",
       "    }\n",
       "</style>\n",
       "<table border=\"1\" class=\"dataframe\">\n",
       "  <thead>\n",
       "    <tr style=\"text-align: right;\">\n",
       "      <th></th>\n",
       "      <th>number_of_hours_exercise</th>\n",
       "      <th>BMI</th>\n",
       "    </tr>\n",
       "  </thead>\n",
       "  <tbody>\n",
       "    <tr>\n",
       "      <th>number_of_hours_exercise</th>\n",
       "      <td>1.000000</td>\n",
       "      <td>0.213419</td>\n",
       "    </tr>\n",
       "    <tr>\n",
       "      <th>BMI</th>\n",
       "      <td>0.213419</td>\n",
       "      <td>1.000000</td>\n",
       "    </tr>\n",
       "  </tbody>\n",
       "</table>\n",
       "</div>"
      ],
      "text/plain": [
       "                          number_of_hours_exercise       BMI\n",
       "number_of_hours_exercise                  1.000000  0.213419\n",
       "BMI                                       0.213419  1.000000"
      ]
     },
     "execution_count": 60,
     "metadata": {},
     "output_type": "execute_result"
    }
   ],
   "source": [
    "df2=df.corr(method=\"spearman\")\n",
    "df2"
   ]
  },
  {
   "cell_type": "code",
   "execution_count": 61,
   "id": "3226b141-48a0-406a-9802-659cdef7a407",
   "metadata": {},
   "outputs": [
    {
     "data": {
      "text/html": [
       "<div>\n",
       "<style scoped>\n",
       "    .dataframe tbody tr th:only-of-type {\n",
       "        vertical-align: middle;\n",
       "    }\n",
       "\n",
       "    .dataframe tbody tr th {\n",
       "        vertical-align: top;\n",
       "    }\n",
       "\n",
       "    .dataframe thead th {\n",
       "        text-align: right;\n",
       "    }\n",
       "</style>\n",
       "<table border=\"1\" class=\"dataframe\">\n",
       "  <thead>\n",
       "    <tr style=\"text-align: right;\">\n",
       "      <th></th>\n",
       "      <th>number_of_hours_exercise</th>\n",
       "      <th>BMI</th>\n",
       "    </tr>\n",
       "  </thead>\n",
       "  <tbody>\n",
       "    <tr>\n",
       "      <th>number_of_hours_exercise</th>\n",
       "      <td>1.000000</td>\n",
       "      <td>0.233962</td>\n",
       "    </tr>\n",
       "    <tr>\n",
       "      <th>BMI</th>\n",
       "      <td>0.233962</td>\n",
       "      <td>1.000000</td>\n",
       "    </tr>\n",
       "    <tr>\n",
       "      <th>number_of_hours_exercise</th>\n",
       "      <td>1.000000</td>\n",
       "      <td>0.213419</td>\n",
       "    </tr>\n",
       "    <tr>\n",
       "      <th>BMI</th>\n",
       "      <td>0.213419</td>\n",
       "      <td>1.000000</td>\n",
       "    </tr>\n",
       "  </tbody>\n",
       "</table>\n",
       "</div>"
      ],
      "text/plain": [
       "                          number_of_hours_exercise       BMI\n",
       "number_of_hours_exercise                  1.000000  0.233962\n",
       "BMI                                       0.233962  1.000000\n",
       "number_of_hours_exercise                  1.000000  0.213419\n",
       "BMI                                       0.213419  1.000000"
      ]
     },
     "execution_count": 61,
     "metadata": {},
     "output_type": "execute_result"
    }
   ],
   "source": [
    "pd.concat([df1,df2])"
   ]
  },
  {
   "cell_type": "code",
   "execution_count": 62,
   "id": "6e7bcccf-379d-483a-bf21-a20b445fc4fc",
   "metadata": {},
   "outputs": [],
   "source": [
    "## Q No. 4 :\n",
    "\n",
    "\n",
    "import pandas as pd\n",
    "df= pd.DataFrame({\"number_of_hrs_watching_tv\":[1,2,4,5,6,2,3,2,5,8,1,1,4,5,6,2,3,2,5,\n",
    "                            8,0,1,4,5,6,2,3,2,5,8,0,1,4,5,6,2,3,2,5,8,0,1,4,1,1,1,3,2,5,7],\n",
    "                  \"physical_activity\": [5,6,6,6,2,8,7,6,5,6,5,6,7,9,2,4,6,6,9,4,5,6,6,9,2,5,6,6,9,4,\n",
    "                          5,6,6,6,7,8,7,6,5,6,5,6,6,9,2,9,6,6,5,6]\n",
    "                  \n",
    "                 })"
   ]
  },
  {
   "cell_type": "code",
   "execution_count": 63,
   "id": "e23d3c59-867a-4377-aacb-c3c23e23d056",
   "metadata": {},
   "outputs": [
    {
     "data": {
      "text/html": [
       "<div>\n",
       "<style scoped>\n",
       "    .dataframe tbody tr th:only-of-type {\n",
       "        vertical-align: middle;\n",
       "    }\n",
       "\n",
       "    .dataframe tbody tr th {\n",
       "        vertical-align: top;\n",
       "    }\n",
       "\n",
       "    .dataframe thead th {\n",
       "        text-align: right;\n",
       "    }\n",
       "</style>\n",
       "<table border=\"1\" class=\"dataframe\">\n",
       "  <thead>\n",
       "    <tr style=\"text-align: right;\">\n",
       "      <th></th>\n",
       "      <th>number_of_hrs_watching_tv</th>\n",
       "      <th>physical_activity</th>\n",
       "    </tr>\n",
       "  </thead>\n",
       "  <tbody>\n",
       "    <tr>\n",
       "      <th>number_of_hrs_watching_tv</th>\n",
       "      <td>1.000000</td>\n",
       "      <td>-0.121176</td>\n",
       "    </tr>\n",
       "    <tr>\n",
       "      <th>physical_activity</th>\n",
       "      <td>-0.121176</td>\n",
       "      <td>1.000000</td>\n",
       "    </tr>\n",
       "  </tbody>\n",
       "</table>\n",
       "</div>"
      ],
      "text/plain": [
       "                           number_of_hrs_watching_tv  physical_activity\n",
       "number_of_hrs_watching_tv                   1.000000          -0.121176\n",
       "physical_activity                          -0.121176           1.000000"
      ]
     },
     "execution_count": 63,
     "metadata": {},
     "output_type": "execute_result"
    }
   ],
   "source": [
    "df.corr(method=\"pearson\")"
   ]
  },
  {
   "cell_type": "code",
   "execution_count": 79,
   "id": "7d4545f0-5957-4580-8a52-a7d73f714630",
   "metadata": {},
   "outputs": [],
   "source": [
    "## Q NO. 5 :\n",
    "\n",
    "import pandas as pd\n",
    "df=pd.DataFrame({\"Age(Years)\" :[25,42,37,19,31,28],\n",
    "             \"Soft drink Preference\" :[\"Coke\",\"Pepsi\",\"Mountain dew\",\"Coke\",\"Pepsi\",\"Coke\"]\n",
    "\n",
    "             })\n"
   ]
  },
  {
   "cell_type": "code",
   "execution_count": 80,
   "id": "68b2f844-abfc-4bb0-9dc0-f68d051ca362",
   "metadata": {},
   "outputs": [
    {
     "name": "stderr",
     "output_type": "stream",
     "text": [
      "/tmp/ipykernel_98/1545644723.py:1: FutureWarning: The default value of numeric_only in DataFrame.cov is deprecated. In a future version, it will default to False. Select only valid columns or specify the value of numeric_only to silence this warning.\n",
      "  df.cov()\n"
     ]
    },
    {
     "data": {
      "text/html": [
       "<div>\n",
       "<style scoped>\n",
       "    .dataframe tbody tr th:only-of-type {\n",
       "        vertical-align: middle;\n",
       "    }\n",
       "\n",
       "    .dataframe tbody tr th {\n",
       "        vertical-align: top;\n",
       "    }\n",
       "\n",
       "    .dataframe thead th {\n",
       "        text-align: right;\n",
       "    }\n",
       "</style>\n",
       "<table border=\"1\" class=\"dataframe\">\n",
       "  <thead>\n",
       "    <tr style=\"text-align: right;\">\n",
       "      <th></th>\n",
       "      <th>Age(Years)</th>\n",
       "    </tr>\n",
       "  </thead>\n",
       "  <tbody>\n",
       "    <tr>\n",
       "      <th>Age(Years)</th>\n",
       "      <td>68.666667</td>\n",
       "    </tr>\n",
       "  </tbody>\n",
       "</table>\n",
       "</div>"
      ],
      "text/plain": [
       "            Age(Years)\n",
       "Age(Years)   68.666667"
      ]
     },
     "execution_count": 80,
     "metadata": {},
     "output_type": "execute_result"
    }
   ],
   "source": [
    "df.cov()"
   ]
  },
  {
   "cell_type": "code",
   "execution_count": 77,
   "id": "33e7b6a7-ee8e-4538-bfd0-6a19ef3e7f3f",
   "metadata": {},
   "outputs": [],
   "source": [
    "## Q No. 6 :\n",
    "\n",
    "import pandas as pd\n",
    "df= pd.DataFrame({\"number_of_ sale_calls_per_day\":[1,2,4,5,6,2,3,2,5,8,1,1,4,5,6,2,3,2,5,\n",
    "                            8,0,1,4,5,3,4,5,6,7,8],\n",
    "                  \"number_of_sales_per_week\": [5,6,6,6,2,8,7,6,5,6,5,6,7,9,2,4,6,6,9,4,5,6,6,9,2,5,6,6,9,4]\n",
    "                  \n",
    "                 })\n"
   ]
  },
  {
   "cell_type": "code",
   "execution_count": 78,
   "id": "c0207be3-1ca7-40bf-b8dd-720232a8c75a",
   "metadata": {},
   "outputs": [
    {
     "data": {
      "text/html": [
       "<div>\n",
       "<style scoped>\n",
       "    .dataframe tbody tr th:only-of-type {\n",
       "        vertical-align: middle;\n",
       "    }\n",
       "\n",
       "    .dataframe tbody tr th {\n",
       "        vertical-align: top;\n",
       "    }\n",
       "\n",
       "    .dataframe thead th {\n",
       "        text-align: right;\n",
       "    }\n",
       "</style>\n",
       "<table border=\"1\" class=\"dataframe\">\n",
       "  <thead>\n",
       "    <tr style=\"text-align: right;\">\n",
       "      <th></th>\n",
       "      <th>number_of_ sale_calls_per_day</th>\n",
       "      <th>number_of_sales_per_week</th>\n",
       "    </tr>\n",
       "  </thead>\n",
       "  <tbody>\n",
       "    <tr>\n",
       "      <th>number_of_ sale_calls_per_day</th>\n",
       "      <td>1.000000</td>\n",
       "      <td>-0.019629</td>\n",
       "    </tr>\n",
       "    <tr>\n",
       "      <th>number_of_sales_per_week</th>\n",
       "      <td>-0.019629</td>\n",
       "      <td>1.000000</td>\n",
       "    </tr>\n",
       "  </tbody>\n",
       "</table>\n",
       "</div>"
      ],
      "text/plain": [
       "                               number_of_ sale_calls_per_day  \\\n",
       "number_of_ sale_calls_per_day                       1.000000   \n",
       "number_of_sales_per_week                           -0.019629   \n",
       "\n",
       "                               number_of_sales_per_week  \n",
       "number_of_ sale_calls_per_day                 -0.019629  \n",
       "number_of_sales_per_week                       1.000000  "
      ]
     },
     "execution_count": 78,
     "metadata": {},
     "output_type": "execute_result"
    }
   ],
   "source": [
    "df.corr(method=\"pearson\")"
   ]
  }
 ],
 "metadata": {
  "kernelspec": {
   "display_name": "Python 3 (ipykernel)",
   "language": "python",
   "name": "python3"
  },
  "language_info": {
   "codemirror_mode": {
    "name": "ipython",
    "version": 3
   },
   "file_extension": ".py",
   "mimetype": "text/x-python",
   "name": "python",
   "nbconvert_exporter": "python",
   "pygments_lexer": "ipython3",
   "version": "3.10.8"
  }
 },
 "nbformat": 4,
 "nbformat_minor": 5
}
